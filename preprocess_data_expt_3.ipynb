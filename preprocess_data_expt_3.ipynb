{
 "cells": [
  {
   "cell_type": "markdown",
   "metadata": {},
   "source": [
    "# Process Seq Match"
   ]
  },
  {
   "cell_type": "markdown",
   "metadata": {},
   "source": [
    "# TO DO\n",
    "- remove practive trials. [x]\n",
    "- remove subjects who did poorly or did bad version of task"
   ]
  },
  {
   "cell_type": "code",
   "execution_count": 1,
   "metadata": {
    "ExecuteTime": {
     "end_time": "2024-07-03T01:46:19.736955Z",
     "start_time": "2024-07-03T01:46:17.648579Z"
    }
   },
   "outputs": [
    {
     "name": "stderr",
     "output_type": "stream",
     "text": [
      "/usr/local/anaconda3/lib/python3.7/site-packages/statsmodels/tools/_testing.py:19: FutureWarning: pandas.util.testing is deprecated. Use the functions in the public API at pandas.testing instead.\n",
      "  import pandas.util.testing as tm\n"
     ]
    }
   ],
   "source": [
    "import numpy as np\n",
    "import matplotlib.pyplot as plt\n",
    "import scipy.io\n",
    "import pandas as pd\n",
    "import seaborn as sns\n",
    "import SD_functions as SDF"
   ]
  },
  {
   "cell_type": "code",
   "execution_count": 2,
   "metadata": {
    "ExecuteTime": {
     "end_time": "2024-07-03T01:46:19.741758Z",
     "start_time": "2024-07-03T01:46:19.738281Z"
    }
   },
   "outputs": [],
   "source": [
    "def sample_compare(sample,shuf,n_boot=10000):\n",
    "    this_mu = np.mean(sample)\n",
    "    n_sam = len(sample)\n",
    "    assert n_sam>1, 'invalid sample'\n",
    "    these_shuf_mu = np.zeros(n_boot)\n",
    "    for n in range(n_boot):\n",
    "        these_shuf_mu[n] = np.mean(np.random.choice(shuf,n_sam))\n",
    "\n",
    "    p_val = np.mean(np.abs(these_shuf_mu)>np.abs(this_mu))\n",
    "    return p_val"
   ]
  },
  {
   "cell_type": "code",
   "execution_count": 3,
   "metadata": {
    "ExecuteTime": {
     "end_time": "2024-07-03T01:46:19.745517Z",
     "start_time": "2024-07-03T01:46:19.743303Z"
    }
   },
   "outputs": [],
   "source": [
    "def mean_stats(x):\n",
    "    this_t = scipy.stats.ttest_1samp(x,0)\n",
    "    print('%.2f \\u00B1 %.2f (n=%d) t=%.3f (p=%.4f)' %(np.mean(x),np.std(x),len(x),*this_t))"
   ]
  },
  {
   "cell_type": "code",
   "execution_count": 4,
   "metadata": {
    "ExecuteTime": {
     "end_time": "2024-07-03T01:46:23.238654Z",
     "start_time": "2024-07-03T01:46:23.075633Z"
    }
   },
   "outputs": [],
   "source": [
    "data_root = '../raw_data/Data_v6/'\n",
    "fls = !ls {data_root}\n",
    "len(fls)\n",
    "pi=np.pi\n",
    "pm = np.array([-1,1])\n",
    "r2d,d2r = 180/pi,pi/180"
   ]
  },
  {
   "cell_type": "code",
   "execution_count": 5,
   "metadata": {
    "ExecuteTime": {
     "end_time": "2024-07-03T01:46:24.547959Z",
     "start_time": "2024-07-03T01:46:24.528060Z"
    }
   },
   "outputs": [],
   "source": [
    "def sav_fig(nam):\n",
    "    root = './Figures_v1/'\n",
    "    plt.savefig(root + nam +'.svg',dpi=1200)\n",
    "\n",
    "import matplotlib\n",
    "cmap = matplotlib.cm.get_cmap('Dark2')\n",
    "ct = cmap(np.linspace(0,1,4))\n",
    "\n",
    "plt.rcParams.update({'font.size': 14\n",
    "                    })"
   ]
  },
  {
   "cell_type": "markdown",
   "metadata": {},
   "source": [
    "# Load Data\n",
    "- drop practice blocks\n"
   ]
  },
  {
   "cell_type": "code",
   "execution_count": 6,
   "metadata": {
    "ExecuteTime": {
     "end_time": "2024-07-03T01:46:27.164151Z",
     "start_time": "2024-07-03T01:46:26.225234Z"
    }
   },
   "outputs": [],
   "source": [
    "s_all = []\n",
    "for fl in fls:\n",
    "    dat = scipy.io.loadmat(data_root+fl)\n",
    "    s = dat['s']\n",
    "    \n",
    "    this_mode = s['session_mode'][0,0][0]\n",
    "    if this_mode in ['compass_practice','split_practice','staircase']: # skip practice\n",
    "        continue\n",
    "\n",
    "    stim = np.concatenate(s['stim'][0],0)\n",
    "    resp = np.concatenate(s['resp'][0],0)\n",
    "    RT = np.concatenate(s['RT'][0],0)\n",
    "    fback = s['do_feedback'][0,0][0,0]\n",
    "    \n",
    "    if RT[0,0]<0: # had bug where RTs where negative for early blocks\n",
    "        RT = -RT\n",
    "    subj = s['subj'][0,0]['id'][0,0][0]\n",
    "    compass_all = s['compass_all'][0,0][0]\n",
    "    hide_resp = s['hide_resp_all'][0,0][0]\n",
    "    n_block = len(s['seqs'][0,0][0])\n",
    "\n",
    "        \n",
    "    for b in range(n_block):\n",
    "        n_trial = stim.shape[1]\n",
    "        trial = np.arange(n_trial)\n",
    "        dummy_stim = np.concatenate(s['seqs'][0,0][0][b]['dummy_stim'])\n",
    "        dummy_labs = np.concatenate(s['seqs'][0,0][0][b]['dummy_labs'][0])\n",
    "        labs = np.concatenate(s['seqs'][0,0][0][b]['labs_use'][0])\n",
    "        drop_trials = np.concatenate(s['seqs'][0,0][0][b]['drop_trials'])\n",
    "        delay = s['seqs'][0,0][0][b]['delay'][0]\n",
    "        iti = s['seqs'][0,0][0][b]['iti'][0]\n",
    "        probe_offset = s['seqs'][0,0][0][b]['probe_offset'][0]*180/pi\n",
    "        \n",
    "\n",
    "        compass_stim = np.concatenate(s['seqs'][0,0][0][b]['compass_trials'])\n",
    "\n",
    "        this_s = pd.DataFrame({'trial':trial,'stim':stim[b],'resp':resp[b],'RT':RT[b],'dummy_stim':dummy_stim,\n",
    "                               'drop_trials':drop_trials,'delay':delay,'iti':iti,\n",
    "                              'compass':compass_stim,'labs':labs,'dummy_labs':dummy_labs,'probe_offset':probe_offset})\n",
    "        this_s['subj'] = subj\n",
    "        this_s['block']= b\n",
    "        this_s['hide_resp'] = hide_resp[b]\n",
    "        this_s['fback'] = fback\n",
    "        s_all.append(this_s)        \n",
    "S = pd.concat(s_all)"
   ]
  },
  {
   "cell_type": "code",
   "execution_count": 7,
   "metadata": {
    "ExecuteTime": {
     "end_time": "2024-07-03T01:46:54.725841Z",
     "start_time": "2024-07-03T01:46:27.656616Z"
    }
   },
   "outputs": [],
   "source": [
    "# map labels to angle --> essential for dot trials with dummy labs (should have no effect...)\n",
    "n_compass = 16\n",
    "stim_map = np.linspace(-pi,pi,n_compass+1)[:-1]\n",
    "stim_labs = np.array(['W','WNW','NW','NNW','N','NNE','NE','ENE','E','ESE','SE','SSE','S','SSW','SW','WSW'])\n",
    "map_stims = np.zeros(len(S))\n",
    "for ei, el in enumerate(S.dummy_labs.values):\n",
    "    map_stims[ei]=stim_map[el==stim_labs][0]\n",
    "S['dummy_lab_angle'] = map_stims\n",
    "\n",
    "# S['dummy_angle'] = S['dummy_stim'].copy()\n",
    "S.loc[(S.compass==0),'dummy_angle'] = S.loc[(S.compass==0),'dummy_lab_angle'] \n",
    "\n",
    "correct = S.resp==(S.probe_offset>0)\n",
    "correct[S.drop_trials]==np.nan\n",
    "S['correct'] = correct\n",
    "S_og = S.copy()"
   ]
  },
  {
   "cell_type": "code",
   "execution_count": 8,
   "metadata": {
    "ExecuteTime": {
     "end_time": "2024-07-03T01:46:54.749722Z",
     "start_time": "2024-07-03T01:46:54.739879Z"
    }
   },
   "outputs": [],
   "source": [
    "# look at subject accuracy and trials completed"
   ]
  },
  {
   "cell_type": "code",
   "execution_count": 11,
   "metadata": {
    "ExecuteTime": {
     "end_time": "2024-07-03T01:47:09.134969Z",
     "start_time": "2024-07-03T01:47:08.865614Z"
    }
   },
   "outputs": [
    {
     "data": {
      "image/png": "[encoded data removed]",
      "text/plain": [
       "<Figure size 576x216 with 2 Axes>"
      ]
     },
     "metadata": {
      "needs_background": "light"
     },
     "output_type": "display_data"
    }
   ],
   "source": [
    "do_clean = True\n",
    "o = np.ones(2)\n",
    "\n",
    "acc = S_og.query('drop_trials==0').groupby('subj').correct.apply(lambda x: np.mean(x)*100).reset_index()\n",
    "n_trials = S_og.groupby('subj').RT.size().reset_index()\n",
    "min_trial=450 \n",
    "min_acc = 0.65*100\n",
    "\n",
    "plt.figure(figsize=(8,3))\n",
    "plt.subplot(1,2,1)\n",
    "perf_bns = np.linspace(50,100,15)\n",
    "plt.hist(acc.correct,perf_bns)\n",
    "plt.plot(min_acc*o,[0,10],'r')\n",
    "plt.xlabel('% Correct')\n",
    "plt.ylabel('# Participants')\n",
    "\n",
    "plt.subplot(1,2,2)\n",
    "plt.plot(min_trial*o,[0,6],'r',label='cutoff')\n",
    "plt.hist(n_trials.RT,30)\n",
    "plt.xlabel('# Trials Completed')\n",
    "plt.show()\n",
    "\n",
    "bad_subj = n_trials[(acc.correct.values<min_acc)|(n_trials.RT.values<min_trial)].subj\n",
    "if do_clean:\n",
    "    S = S_og[~np.isin(S_og.subj,bad_subj)]\n",
    "else:\n",
    "    S = S_og.copy()\n"
   ]
  },
  {
   "cell_type": "markdown",
   "metadata": {},
   "source": [
    "# Get Psychophsics Curve"
   ]
  },
  {
   "cell_type": "code",
   "execution_count": 12,
   "metadata": {
    "ExecuteTime": {
     "end_time": "2024-07-03T01:47:11.131931Z",
     "start_time": "2024-07-03T01:47:11.088931Z"
    }
   },
   "outputs": [],
   "source": [
    "GUESS_RATE = 0.0\n",
    "\n",
    "def softplus(x): return np.log(1 + np.exp(x))\n",
    "def inv_softplus(x): return np.log(np.exp(x) - 1)\n",
    "\n",
    "GUESS_RATE = 0.1\n",
    "link_fun = softplus\n",
    "def gauss_cdf(p,x):\n",
    "    mu = 0\n",
    "#     w=link_fun(p)\n",
    "    w = link_fun(p[0])\n",
    "    if len(p)>=2:\n",
    "        guess_rate = p[1]\n",
    "    else:\n",
    "        guess_rate = GUESS_RATE \n",
    "        \n",
    "    f = scipy.stats.norm(mu,w).cdf\n",
    "    p_cdf = f(x)\n",
    "    out = (1-guess_rate)*p_cdf + guess_rate/2\n",
    "    return out\n",
    "\n",
    "def loss_fun_meta(fun):\n",
    "    def loss_fun(p,x,y):\n",
    "        return log_loss(fun(p,x),y)\n",
    "    return loss_fun\n",
    "\n",
    "def log_loss(y,y_hat):\n",
    "    loss = y*y_hat + (1-y_hat)*(1-y)\n",
    "    return -np.sum(np.log(loss))\n",
    "\n",
    "\n",
    "this_loss = loss_fun_meta(gauss_cdf)\n",
    "# out = scipy.optimize.minimize(this_loss,p0,args=vals)''"
   ]
  },
  {
   "cell_type": "code",
   "execution_count": 13,
   "metadata": {
    "ExecuteTime": {
     "end_time": "2024-07-03T01:47:12.535457Z",
     "start_time": "2024-07-03T01:47:12.192385Z"
    }
   },
   "outputs": [],
   "source": [
    "n_bn = 8\n",
    "bns_probe = np.linspace(-10,10,n_bn+1)\n",
    "bns_probe_c = bns_probe[:-1] + (bns_probe[1]-bns_probe[0])/2\n",
    "avg_bias_probe = np.zeros((2,n_bn))\n",
    "\n",
    "bnds_gauss_cdf = ((0,15),(0.01,0.3))\n",
    "p0 = (4,.1)\n",
    "fits_gauss_cdf = np.zeros((2,len(p0)))\n",
    "for ci in range(2):\n",
    "    good = (~np.isnan(S.resp))&(S.compass==ci)&(S.drop_trials==0)#&(np.isin(S.subj,good_subj))\n",
    "    vals = S.loc[good,['probe_offset','resp']].values.T\n",
    "    for bi in range(n_bn):\n",
    "        this_bin = (S.probe_offset.values>bns_probe[bi])&(S.probe_offset.values<bns_probe[bi+1])\n",
    "        avg_bias_probe[ci,bi] = np.mean(S[good&this_bin].resp.values)*100\n",
    "    out = scipy.optimize.minimize(this_loss,p0,args=tuple(vals),bounds=bnds_gauss_cdf)\n",
    "    fits_gauss_cdf[ci] = out.x"
   ]
  },
  {
   "cell_type": "code",
   "execution_count": 16,
   "metadata": {
    "ExecuteTime": {
     "end_time": "2024-07-03T01:48:05.827392Z",
     "start_time": "2024-07-03T01:48:05.705414Z"
    }
   },
   "outputs": [
    {
     "data": {
      "image/png": "[encoded data removed]",
      "text/plain": [
       "<Figure size 432x288 with 1 Axes>"
      ]
     },
     "metadata": {
      "needs_background": "light"
     },
     "output_type": "display_data"
    }
   ],
   "source": [
    "# plt.plot(bns_probe_c,avg_bias_probe.T,'o-')\n",
    "cols = sns.color_palette('Paired',4)\n",
    "bns_probe_tight = np.linspace(-10,10,100)\n",
    "\n",
    "labs = ['Dot','Compass']\n",
    "for i in range(2):\n",
    "    plt.plot(bns_probe_c,avg_bias_probe[i],'o',color=cols[i*2+1],label=labs[i])\n",
    "    plt.plot(bns_probe_tight,gauss_cdf(fits_gauss_cdf[i],bns_probe_tight)*100,color=cols[i*2+1])\n",
    "plt.ylabel('% Resp CW')\n",
    "plt.legend(title='Stim Type')\n",
    "plt.xlabel('Probe Offset (deg)');\n",
    "plt.plot([0,0],[0,100],'k')\n",
    "plt.ylim(0,100);\n",
    "xl = pm*10\n",
    "plt.xlim(xl)\n",
    "plt.plot(xl,[50,50],'k');\n",
    "# sav_fig('v6_psychometric_curve_pooled_fit')"
   ]
  },
  {
   "cell_type": "code",
   "execution_count": null,
   "metadata": {},
   "outputs": [],
   "source": [
    "# Save out data\n",
    "# look into fitting more \"complete\" model including variance.\n",
    "# S.to_parquet('data/data_processed_expt3_clean.parquet')"
   ]
  }
 ],
 "metadata": {
  "kernelspec": {
   "display_name": "Python 3",
   "language": "python",
   "name": "python3"
  },
  "language_info": {
   "codemirror_mode": {
    "name": "ipython",
    "version": 3
   },
   "file_extension": ".py",
   "mimetype": "text/x-python",
   "name": "python",
   "nbconvert_exporter": "python",
   "pygments_lexer": "ipython3",
   "version": "3.7.4"
  }
 },
 "nbformat": 4,
 "nbformat_minor": 4
}
