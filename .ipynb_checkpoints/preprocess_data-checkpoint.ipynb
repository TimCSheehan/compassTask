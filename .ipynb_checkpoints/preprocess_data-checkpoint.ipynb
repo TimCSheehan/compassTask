{
 "cells": [
  {
   "cell_type": "markdown",
   "metadata": {},
   "source": [
    "# Pre-Process data\n",
    "- load data for each task\n",
    "- add relevant (ignored) compass locations (in radians)\n",
    "- filter by performance\n",
    "- get residuals after removing systematic biases\n",
    "- save out to parquet file"
   ]
  },
  {
   "cell_type": "code",
   "execution_count": 37,
   "metadata": {
    "ExecuteTime": {
     "end_time": "2024-07-03T01:48:27.611524Z",
     "start_time": "2024-07-03T01:48:27.463330Z"
    }
   },
   "outputs": [],
   "source": [
    "import numpy as np\n",
    "import matplotlib.pyplot as plt\n",
    "import scipy.io\n",
    "import pandas as pd\n",
    "import scipy.stats\n",
    "import seaborn as sns\n",
    "import SD_functions as SDF\n",
    "from scipy.optimize import minimize, minimize_scalar\n",
    "import statsmodels.formula.api as smf\n",
    "\n",
    "pi=np.pi\n",
    "xx = np.linspace(-pi,pi,180)\n",
    "n_bns=31\n",
    "bns = np.linspace(-pi,pi,n_bns)\n",
    "bns[0] -=1E-6\n",
    "bns[-1] +=1E-6\n",
    "d_bns = np.linspace(-180,180,n_bns)\n",
    "overlap=2\n",
    "r2d,d2r = 180/pi,pi/180\n",
    "pm = np.array((-1,1))\n",
    "\n",
    "\n",
    "def mean_stats(x):\n",
    "    this_t = scipy.stats.ttest_1samp(x,0)\n",
    "    print('%.2f \\u00B1 %.2f (n=%d) t=%.3f (p=%.6f)' %(np.mean(x),np.std(x)/np.sqrt(len(x)),len(x),*this_t))"
   ]
  },
  {
   "cell_type": "code",
   "execution_count": 38,
   "metadata": {
    "ExecuteTime": {
     "end_time": "2024-07-03T01:48:32.957570Z",
     "start_time": "2024-07-03T01:48:32.944095Z"
    }
   },
   "outputs": [],
   "source": [
    "import matplotlib\n",
    "def sav_fig(nam):\n",
    "    root = './Figures_v1/'\n",
    "    plt.savefig(root + nam +'.svg',dpi=1200)\n",
    "\n",
    "plt.rcParams.update({'font.size': 14\n",
    "                    })"
   ]
  },
  {
   "cell_type": "markdown",
   "metadata": {},
   "source": [
    "# Load data\n",
    "Requires some harmoization accross tasks:\n",
    "- remove debugging sessions\n",
    "- add 'correct_resp' to 'v3' (expt 1b)\n",
    "- recompute error (E) since was in degrees for some experiments"
   ]
  },
  {
   "cell_type": "code",
   "execution_count": 39,
   "metadata": {
    "ExecuteTime": {
     "end_time": "2024-07-03T01:48:41.138378Z",
     "start_time": "2024-07-03T01:48:38.994766Z"
    }
   },
   "outputs": [],
   "source": [
    "data_loc = '../raw_data/'\n",
    "fls = ['data_v3.csv', 'data_v4.csv', 'data_v5_v2.csv', 'data_v8.csv']\n",
    "dat=[]\n",
    "for i in range(len(fls)):\n",
    "    dat_ = pd.read_csv(data_loc + fls[i],index_col=0)\n",
    "    f_name = fls[i].split('.')[0][5:]\n",
    "    dat_['task'] = f_name[:2]\n",
    "    dat_['subj_t'] = dat_['subj'] +'_' + f_name[:2] \n",
    "    dat.append(dat_)\n",
    "S = pd.concat(dat)\n",
    "\n",
    "S=S[S.subj!='UCSD000'] #- remove session generated for debugging/testing purposes\n",
    "\n",
    "S.loc[(S.task=='v3')&(S.drop_trials==0),'correct_resp'] = S.loc[(S.task=='v3')&(S.drop_trials==0),'stim']\n",
    "S['E'] = SDF.wrapRad(S['resp'] - S['correct_resp']) "
   ]
  },
  {
   "cell_type": "markdown",
   "metadata": {},
   "source": [
    "# Fix Compass labels\n",
    "- want location in radians for all tasks\n",
    "- need to signal 'dummy' orientation for all trials (non reported stim)"
   ]
  },
  {
   "cell_type": "code",
   "execution_count": 6,
   "metadata": {
    "ExecuteTime": {
     "end_time": "2024-07-02T13:44:27.494835Z",
     "start_time": "2024-07-02T13:44:27.444459Z"
    }
   },
   "outputs": [],
   "source": [
    "# label v3 compass trials\n",
    "bns_to_label = np.linspace(-pi-.0001,pi+.0001,17)-.2\n",
    "stim_labs = np.array(['W','WNW','NW','NNW','N','NNE','NE','ENE','E','ESE','SE','SSE','S','SSW','SW','WSW'])\n",
    "this_S = S[(S.task=='v3')&(S.compass==1)].copy()\n",
    "these_labs = this_S.labs.values\n",
    "for i in range(16):\n",
    "    these_labs[(this_S.stim>bns_to_label[i])&(this_S.stim<bns_to_label[i+1])] = stim_labs[i]\n",
    "S.loc[(S.task=='v3')&(S.compass==1),'labs'] = these_labs\n",
    "S.loc[(S.compass==-1),'compass']=0"
   ]
  },
  {
   "cell_type": "code",
   "execution_count": 7,
   "metadata": {
    "ExecuteTime": {
     "end_time": "2024-07-02T13:44:29.208849Z",
     "start_time": "2024-07-02T13:44:29.029047Z"
    }
   },
   "outputs": [],
   "source": [
    "# lets add dummy labels!\n",
    "# not needed for v3...\n",
    "# map labels to angle --> essential for dot trials with dummy labs (should have no effect...)\n",
    "n_compass = 16\n",
    "stim_map = np.linspace(-pi,pi,n_compass+1)[:-1]\n",
    "stim_labs = np.array(['W','WNW','NW','NNW','N','NNE','NE','ENE','E','ESE','SE','SSE','S','SSW','SW','WSW'])\n",
    "map_stims = np.zeros(np.sum(S.task!='v3'))\n",
    "\n",
    "for ei, el in enumerate(S[S.task!='v3'].dummy_labs.values):\n",
    "    map_stims[ei]=stim_map[el==stim_labs][0]\n",
    "S.loc[(S.task!='v3'),'dummy_lab_angle'] = map_stims\n",
    "\n",
    "S['dummy_angle'] = S['dummy_stim'].copy()\n",
    "S.loc[(S.compass==0)&(S.task!='v3'),'dummy_angle'] = S.loc[(S.compass==0)&(S.task!='v3'),'dummy_lab_angle'] \n",
    "\n",
    "S_og = S.copy() # for back referencing "
   ]
  },
  {
   "cell_type": "markdown",
   "metadata": {},
   "source": [
    "# Clean Data"
   ]
  },
  {
   "cell_type": "code",
   "execution_count": 8,
   "metadata": {
    "ExecuteTime": {
     "end_time": "2024-07-02T13:44:30.977134Z",
     "start_time": "2024-07-02T13:44:30.583986Z"
    }
   },
   "outputs": [
    {
     "data": {
      "image/png": "[encoded data removed]",
      "text/plain": [
       "<Figure size 576x216 with 2 Axes>"
      ]
     },
     "metadata": {
      "needs_background": "light"
     },
     "output_type": "display_data"
    }
   ],
   "source": [
    "# clean subjects a bit...\n",
    "# - remove practice trials\n",
    "# - remove poor or small number of trials subjets\n",
    "\n",
    "o = np.ones(2)\n",
    "\n",
    "max_E_subj = 25*d2r\n",
    "min_n_trials_subj = 200\n",
    "\n",
    "avg_e = S_og[S_og.drop_trials==0].groupby('subj_t').E.apply(lambda x: np.mean(np.abs(x))*r2d)\n",
    "subj_perf = S_og[S_og.drop_trials==0].groupby(['subj_t','task']).E.apply(SDF.circ_sd).reset_index()\n",
    "n_trials = S_og[S_og.drop_trials==0].groupby(['subj_t','task']).E.size().reset_index()\n",
    "\n",
    "plt.figure(figsize=(8,3))\n",
    "plt.subplot(1,2,1)\n",
    "perf_bns = np.linspace(0,90)\n",
    "plt.hist(subj_perf.E*r2d,perf_bns)\n",
    "plt.plot(max_E_subj*r2d*o,[0,14],'r')\n",
    "plt.xlabel('Error (deg)')\n",
    "plt.ylabel('# Participants')\n",
    "\n",
    "plt.subplot(1,2,2)\n",
    "plt.plot(min_n_trials_subj*o,[0,25],'r',label='cutoff')\n",
    "plt.hist(n_trials.E,30)\n",
    "plt.xlabel('# Trials Completed')\n",
    "plt.legend()\n",
    "plt.tight_layout()\n",
    "plt.show()\n",
    "\n",
    "bad_subj = subj_perf[(subj_perf.E.values>max_E_subj)|(n_trials.E.values<min_n_trials_subj)]\n",
    "S = S[~np.isin(S.subj_t,bad_subj)]"
   ]
  },
  {
   "cell_type": "markdown",
   "metadata": {},
   "source": [
    "# Get Trial Counts"
   ]
  },
  {
   "cell_type": "code",
   "execution_count": 9,
   "metadata": {
    "ExecuteTime": {
     "end_time": "2024-07-02T13:44:32.984378Z",
     "start_time": "2024-07-02T13:44:32.929816Z"
    }
   },
   "outputs": [
    {
     "data": {
      "text/html": [
       "<div>\n",
       "<style scoped>\n",
       "    .dataframe tbody tr th:only-of-type {\n",
       "        vertical-align: middle;\n",
       "    }\n",
       "\n",
       "    .dataframe tbody tr th {\n",
       "        vertical-align: top;\n",
       "    }\n",
       "\n",
       "    .dataframe thead th {\n",
       "        text-align: right;\n",
       "    }\n",
       "</style>\n",
       "<table border=\"1\" class=\"dataframe\">\n",
       "  <thead>\n",
       "    <tr style=\"text-align: right;\">\n",
       "      <th>level_1</th>\n",
       "      <th>abs_e</th>\n",
       "      <th>n_trial</th>\n",
       "    </tr>\n",
       "    <tr>\n",
       "      <th>subj</th>\n",
       "      <th></th>\n",
       "      <th></th>\n",
       "    </tr>\n",
       "  </thead>\n",
       "  <tbody>\n",
       "    <tr>\n",
       "      <th>UCSD101</th>\n",
       "      <td>6.306641</td>\n",
       "      <td>384.0</td>\n",
       "    </tr>\n",
       "    <tr>\n",
       "      <th>UCSD102</th>\n",
       "      <td>4.771484</td>\n",
       "      <td>576.0</td>\n",
       "    </tr>\n",
       "    <tr>\n",
       "      <th>UCSD105</th>\n",
       "      <td>11.682617</td>\n",
       "      <td>384.0</td>\n",
       "    </tr>\n",
       "    <tr>\n",
       "      <th>UCSD106</th>\n",
       "      <td>4.587402</td>\n",
       "      <td>768.0</td>\n",
       "    </tr>\n",
       "    <tr>\n",
       "      <th>UCSD107</th>\n",
       "      <td>6.296875</td>\n",
       "      <td>384.0</td>\n",
       "    </tr>\n",
       "    <tr>\n",
       "      <th>UCSD108</th>\n",
       "      <td>7.040039</td>\n",
       "      <td>384.0</td>\n",
       "    </tr>\n",
       "    <tr>\n",
       "      <th>UCSD109</th>\n",
       "      <td>10.024414</td>\n",
       "      <td>384.0</td>\n",
       "    </tr>\n",
       "    <tr>\n",
       "      <th>UCSD110</th>\n",
       "      <td>6.191406</td>\n",
       "      <td>576.0</td>\n",
       "    </tr>\n",
       "    <tr>\n",
       "      <th>UCSD111</th>\n",
       "      <td>6.182292</td>\n",
       "      <td>576.0</td>\n",
       "    </tr>\n",
       "    <tr>\n",
       "      <th>UCSD112</th>\n",
       "      <td>7.597656</td>\n",
       "      <td>480.0</td>\n",
       "    </tr>\n",
       "    <tr>\n",
       "      <th>UCSD113</th>\n",
       "      <td>7.553385</td>\n",
       "      <td>576.0</td>\n",
       "    </tr>\n",
       "    <tr>\n",
       "      <th>UCSD114</th>\n",
       "      <td>4.312500</td>\n",
       "      <td>576.0</td>\n",
       "    </tr>\n",
       "    <tr>\n",
       "      <th>UCSD115</th>\n",
       "      <td>6.740625</td>\n",
       "      <td>960.0</td>\n",
       "    </tr>\n",
       "    <tr>\n",
       "      <th>UCSD116</th>\n",
       "      <td>6.694336</td>\n",
       "      <td>384.0</td>\n",
       "    </tr>\n",
       "    <tr>\n",
       "      <th>UCSD118</th>\n",
       "      <td>8.394531</td>\n",
       "      <td>480.0</td>\n",
       "    </tr>\n",
       "    <tr>\n",
       "      <th>UCSD119</th>\n",
       "      <td>5.890625</td>\n",
       "      <td>480.0</td>\n",
       "    </tr>\n",
       "    <tr>\n",
       "      <th>UCSD120</th>\n",
       "      <td>3.861328</td>\n",
       "      <td>384.0</td>\n",
       "    </tr>\n",
       "    <tr>\n",
       "      <th>UCSD121</th>\n",
       "      <td>8.502344</td>\n",
       "      <td>960.0</td>\n",
       "    </tr>\n",
       "    <tr>\n",
       "      <th>UCSD123</th>\n",
       "      <td>8.516276</td>\n",
       "      <td>576.0</td>\n",
       "    </tr>\n",
       "    <tr>\n",
       "      <th>UCSD125</th>\n",
       "      <td>7.432292</td>\n",
       "      <td>576.0</td>\n",
       "    </tr>\n",
       "    <tr>\n",
       "      <th>UCSD127</th>\n",
       "      <td>4.867969</td>\n",
       "      <td>480.0</td>\n",
       "    </tr>\n",
       "    <tr>\n",
       "      <th>UCSD128</th>\n",
       "      <td>5.948437</td>\n",
       "      <td>480.0</td>\n",
       "    </tr>\n",
       "    <tr>\n",
       "      <th>UCSD129</th>\n",
       "      <td>8.863281</td>\n",
       "      <td>480.0</td>\n",
       "    </tr>\n",
       "    <tr>\n",
       "      <th>UCSD130</th>\n",
       "      <td>6.899740</td>\n",
       "      <td>576.0</td>\n",
       "    </tr>\n",
       "    <tr>\n",
       "      <th>UCSD131</th>\n",
       "      <td>6.498438</td>\n",
       "      <td>480.0</td>\n",
       "    </tr>\n",
       "    <tr>\n",
       "      <th>UCSD133</th>\n",
       "      <td>5.490234</td>\n",
       "      <td>576.0</td>\n",
       "    </tr>\n",
       "    <tr>\n",
       "      <th>UCSD134</th>\n",
       "      <td>8.741211</td>\n",
       "      <td>384.0</td>\n",
       "    </tr>\n",
       "    <tr>\n",
       "      <th>UCSD135</th>\n",
       "      <td>10.442969</td>\n",
       "      <td>480.0</td>\n",
       "    </tr>\n",
       "    <tr>\n",
       "      <th>UCSD136</th>\n",
       "      <td>6.014063</td>\n",
       "      <td>480.0</td>\n",
       "    </tr>\n",
       "  </tbody>\n",
       "</table>\n",
       "</div>"
      ],
      "text/plain": [
       "level_1      abs_e  n_trial\n",
       "subj                       \n",
       "UCSD101   6.306641    384.0\n",
       "UCSD102   4.771484    576.0\n",
       "UCSD105  11.682617    384.0\n",
       "UCSD106   4.587402    768.0\n",
       "UCSD107   6.296875    384.0\n",
       "UCSD108   7.040039    384.0\n",
       "UCSD109  10.024414    384.0\n",
       "UCSD110   6.191406    576.0\n",
       "UCSD111   6.182292    576.0\n",
       "UCSD112   7.597656    480.0\n",
       "UCSD113   7.553385    576.0\n",
       "UCSD114   4.312500    576.0\n",
       "UCSD115   6.740625    960.0\n",
       "UCSD116   6.694336    384.0\n",
       "UCSD118   8.394531    480.0\n",
       "UCSD119   5.890625    480.0\n",
       "UCSD120   3.861328    384.0\n",
       "UCSD121   8.502344    960.0\n",
       "UCSD123   8.516276    576.0\n",
       "UCSD125   7.432292    576.0\n",
       "UCSD127   4.867969    480.0\n",
       "UCSD128   5.948437    480.0\n",
       "UCSD129   8.863281    480.0\n",
       "UCSD130   6.899740    576.0\n",
       "UCSD131   6.498438    480.0\n",
       "UCSD133   5.490234    576.0\n",
       "UCSD134   8.741211    384.0\n",
       "UCSD135  10.442969    480.0\n",
       "UCSD136   6.014063    480.0"
      ]
     },
     "execution_count": 9,
     "metadata": {},
     "output_type": "execute_result"
    }
   ],
   "source": [
    "foo = S.query('task==\"v5\"').groupby('subj').E.apply(lambda x: {'abs_e':np.mean(np.abs(x))*r2d,'n_trial':len(x)}).reset_index()\n",
    "foo.pivot(index='subj',columns=['level_1'],values='E')"
   ]
  },
  {
   "cell_type": "code",
   "execution_count": 10,
   "metadata": {
    "ExecuteTime": {
     "end_time": "2024-07-02T13:44:34.508538Z",
     "start_time": "2024-07-02T13:44:34.462286Z"
    }
   },
   "outputs": [
    {
     "name": "stdout",
     "output_type": "stream",
     "text": [
      "All data collected\n"
     ]
    },
    {
     "data": {
      "text/html": [
       "<div>\n",
       "<style scoped>\n",
       "    .dataframe tbody tr th:only-of-type {\n",
       "        vertical-align: middle;\n",
       "    }\n",
       "\n",
       "    .dataframe tbody tr th {\n",
       "        vertical-align: top;\n",
       "    }\n",
       "\n",
       "    .dataframe thead th {\n",
       "        text-align: right;\n",
       "    }\n",
       "</style>\n",
       "<table border=\"1\" class=\"dataframe\">\n",
       "  <thead>\n",
       "    <tr style=\"text-align: right;\">\n",
       "      <th></th>\n",
       "      <th>n_subj</th>\n",
       "      <th>n_trials</th>\n",
       "    </tr>\n",
       "    <tr>\n",
       "      <th>task</th>\n",
       "      <th></th>\n",
       "      <th></th>\n",
       "    </tr>\n",
       "  </thead>\n",
       "  <tbody>\n",
       "    <tr>\n",
       "      <th>v3</th>\n",
       "      <td>14</td>\n",
       "      <td>9472</td>\n",
       "    </tr>\n",
       "    <tr>\n",
       "      <th>v4</th>\n",
       "      <td>22</td>\n",
       "      <td>16704</td>\n",
       "    </tr>\n",
       "    <tr>\n",
       "      <th>v5</th>\n",
       "      <td>33</td>\n",
       "      <td>16992</td>\n",
       "    </tr>\n",
       "    <tr>\n",
       "      <th>v8</th>\n",
       "      <td>43</td>\n",
       "      <td>27504</td>\n",
       "    </tr>\n",
       "  </tbody>\n",
       "</table>\n",
       "</div>"
      ],
      "text/plain": [
       "      n_subj  n_trials\n",
       "task                  \n",
       "v3        14      9472\n",
       "v4        22     16704\n",
       "v5        33     16992\n",
       "v8        43     27504"
      ]
     },
     "execution_count": 10,
     "metadata": {},
     "output_type": "execute_result"
    }
   ],
   "source": [
    "print('All data collected')\n",
    "trial_cnts = S_og.groupby('task').size().reset_index()\n",
    "subj_cnts = S_og.groupby('task').subj_t.nunique().reset_index()\n",
    "m_tab_all = pd.merge(subj_cnts,trial_cnts).rename(columns={'subj_t':'n_subj',0:'n_trials'}).set_index('task')\n",
    "m_tab_all"
   ]
  },
  {
   "cell_type": "code",
   "execution_count": 11,
   "metadata": {
    "ExecuteTime": {
     "end_time": "2024-07-02T13:44:36.255489Z",
     "start_time": "2024-07-02T13:44:36.215087Z"
    }
   },
   "outputs": [
    {
     "name": "stdout",
     "output_type": "stream",
     "text": [
      "Clean data used\n"
     ]
    },
    {
     "data": {
      "text/html": [
       "<div>\n",
       "<style scoped>\n",
       "    .dataframe tbody tr th:only-of-type {\n",
       "        vertical-align: middle;\n",
       "    }\n",
       "\n",
       "    .dataframe tbody tr th {\n",
       "        vertical-align: top;\n",
       "    }\n",
       "\n",
       "    .dataframe thead th {\n",
       "        text-align: right;\n",
       "    }\n",
       "</style>\n",
       "<table border=\"1\" class=\"dataframe\">\n",
       "  <thead>\n",
       "    <tr style=\"text-align: right;\">\n",
       "      <th></th>\n",
       "      <th>n_subj</th>\n",
       "      <th>n_trials</th>\n",
       "    </tr>\n",
       "    <tr>\n",
       "      <th>task</th>\n",
       "      <th></th>\n",
       "      <th></th>\n",
       "    </tr>\n",
       "  </thead>\n",
       "  <tbody>\n",
       "    <tr>\n",
       "      <th>v3</th>\n",
       "      <td>13</td>\n",
       "      <td>9216</td>\n",
       "    </tr>\n",
       "    <tr>\n",
       "      <th>v4</th>\n",
       "      <td>19</td>\n",
       "      <td>15360</td>\n",
       "    </tr>\n",
       "    <tr>\n",
       "      <th>v5</th>\n",
       "      <td>29</td>\n",
       "      <td>15264</td>\n",
       "    </tr>\n",
       "    <tr>\n",
       "      <th>v8</th>\n",
       "      <td>29</td>\n",
       "      <td>20256</td>\n",
       "    </tr>\n",
       "  </tbody>\n",
       "</table>\n",
       "</div>"
      ],
      "text/plain": [
       "      n_subj  n_trials\n",
       "task                  \n",
       "v3        13      9216\n",
       "v4        19     15360\n",
       "v5        29     15264\n",
       "v8        29     20256"
      ]
     },
     "execution_count": 11,
     "metadata": {},
     "output_type": "execute_result"
    }
   ],
   "source": [
    "print('Clean data used')\n",
    "trial_cnts = S.groupby('task').size().reset_index()\n",
    "subj_cnts = S.groupby('task').subj_t.nunique().reset_index()\n",
    "m_tab_clean = pd.merge(subj_cnts,trial_cnts).rename(columns={'subj_t':'n_subj',0:'n_trials'}).set_index('task')\n",
    "m_tab_clean"
   ]
  },
  {
   "cell_type": "code",
   "execution_count": 12,
   "metadata": {
    "ExecuteTime": {
     "end_time": "2024-07-02T13:44:37.714402Z",
     "start_time": "2024-07-02T13:44:37.678147Z"
    }
   },
   "outputs": [
    {
     "data": {
      "text/plain": [
       "task      \n",
       "v3    min      256.000000\n",
       "      max     1280.000000\n",
       "      mean     708.923077\n",
       "      SD       327.745319\n",
       "      SEM       90.900196\n",
       "v4    min      576.000000\n",
       "      max     1152.000000\n",
       "      mean     808.421053\n",
       "      SD       185.094660\n",
       "      SEM       42.463627\n",
       "v5    min      384.000000\n",
       "      max      960.000000\n",
       "      mean     526.344828\n",
       "      SD       148.338912\n",
       "      SEM       27.545844\n",
       "v8    min      288.000000\n",
       "      max     1440.000000\n",
       "      mean     698.482759\n",
       "      SD       330.537558\n",
       "      SEM       61.379284\n",
       "Name: E, dtype: float64"
      ]
     },
     "execution_count": 12,
     "metadata": {},
     "output_type": "execute_result"
    }
   ],
   "source": [
    "trial_cnts_subj = S.groupby(['subj_t','task']).E.size().reset_index()\n",
    "trial_cnts_tbl = trial_cnts_subj.groupby('task').E.apply(lambda x: {'min':min(x),'max':max(x),'mean':np.mean(x),'SD':np.std(x),'SEM':np.std(x)/np.sqrt(len(x))})#.reset_index().set_index('task')\n",
    "trial_cnts_tbl"
   ]
  },
  {
   "cell_type": "code",
   "execution_count": null,
   "metadata": {},
   "outputs": [],
   "source": [
    "# get range of and mean +/- SEM/SD # of trials\n",
    "S.groupby('task').subj_t.size()"
   ]
  },
  {
   "cell_type": "markdown",
   "metadata": {},
   "source": [
    "# Visualize systematic biases"
   ]
  },
  {
   "cell_type": "code",
   "execution_count": 341,
   "metadata": {},
   "outputs": [],
   "source": [
    "# response biases\n",
    "#- get average systematic bias for each task, condition, subject. May vary by delay/ response type\n",
    "overlap=1\n",
    "mean_fun = 'circ_mean'#'circ_mean'\n",
    "var_fun = 'circ_sd'#'circ_var'\n",
    "# task_run = 'v4'\n",
    "cat_bias_all = []\n",
    "tasks = ['v3','v4','v5','v8']\n",
    "good_trials = (S.drop_trials==0)&(np.abs(S.E)<(30*d2r))\n",
    "compass_opts = (0,1)\n",
    "\n",
    "for task_run in tasks:\n",
    "\n",
    "    this_task = S.task == task_run\n",
    "    min_trials = 500\n",
    "\n",
    "    if task_run=='v4':\n",
    "        min_trials = 700\n",
    "\n",
    "    trial_cnts = S[this_task].groupby('subj').resp.size().reset_index()\n",
    "    subjs = trial_cnts[trial_cnts.resp>min_trials].subj.values\n",
    "    n_subj = len(subjs)\n",
    "\n",
    "    cat_bias_this = np.zeros((n_subj,2,2,n_bns)) # subj, dot/compass,bias/var bns\n",
    "    for si,subj in enumerate(subjs):\n",
    "        ind_subj = this_task&(S.subj==subj)\n",
    "         # subsetting\n",
    "        for cii,ci in enumerate(compass_opts):\n",
    "            these_inds = ind_subj&(S.compass==ci)&good_trials # &(S[ind_subj].delay==2))\n",
    "\n",
    "            cat_bias_this[si,cii,0,:] = SDF.do_bining(bns,overlap,S.loc[these_inds,'stim'],S.loc[these_inds,'E'],mean_fun)*r2d\n",
    "            cat_bias_this[si,cii,1,:] = SDF.do_bining(bns,overlap*2,S.loc[these_inds,'stim'],S.loc[these_inds,'E'],var_fun)*r2d\n",
    "    \n",
    "    cat_bias_all.append(cat_bias_this)"
   ]
  },
  {
   "cell_type": "code",
   "execution_count": 13,
   "metadata": {
    "ExecuteTime": {
     "end_time": "2024-07-02T13:44:51.975241Z",
     "start_time": "2024-07-02T13:44:50.665384Z"
    }
   },
   "outputs": [],
   "source": [
    "# group stimuli for visualization\n",
    "S.loc[S['stim']>(pi-pi/32),'stim'] = -pi \n",
    "\n",
    "stim_G = np.zeros(len(S))\n",
    "stim_G_vals = np.zeros(32)\n",
    "for i in np.arange(0,32,1):\n",
    "    targ_rad = (pi/16)*(-16+i)\n",
    "    NE_stim = np.abs(S.stim-targ_rad)<.1\n",
    "    stim_G[NE_stim] = np.round(targ_rad*r2d,1)\n",
    "    stim_G_vals[i] = np.round(targ_rad*r2d,1)\n",
    "S['stimG'] = stim_G\n",
    "\n",
    "\n",
    "good = (np.abs(S.E)<(30*d2r))&(S.RT<10)\n",
    "avg_bias_simple = S[good].groupby(['subj_t','task','stimG','compass']).E.apply(SDF.circ_mean).reset_index()\n",
    "avg_bias_simple['E_deg'] = avg_bias_simple['E']*r2d\n",
    "\n",
    "avg_sd_simple = S[good].groupby(['subj_t','task','stimG','compass']).E.apply(SDF.circ_sd).reset_index()\n",
    "avg_RT_simple = S[good].groupby(['subj_t','task','stimG','compass']).RT.median().reset_index()"
   ]
  },
  {
   "cell_type": "code",
   "execution_count": 343,
   "metadata": {},
   "outputs": [
    {
     "data": {
      "image/png": "[encoded data removed]",
      "text/plain": [
       "<Figure size 864x288 with 3 Axes>"
      ]
     },
     "metadata": {
      "needs_background": "light"
     },
     "output_type": "display_data"
    }
   ],
   "source": [
    "cols = sns.color_palette('Paired',4)\n",
    "yl=9\n",
    "plt.figure(figsize=(12,4))\n",
    "plt.subplot(1,3,1)\n",
    "\n",
    "sns.lineplot(data=avg_bias_simple,x='stimG',y='E_deg',hue='compass',ci=68,palette=cols[::3])\n",
    "SDF.d_plot()\n",
    "plt.xticks([-180,-90,0,90,180],['W','N','E','S','W'])\n",
    "plt.ylabel('Bias (deg)')\n",
    "plt.vlines([-90,0,90],-yl,yl,colors='k',alpha=.3)\n",
    "plt.xlabel('')\n",
    "plt.ylim(-yl,yl)\n",
    "plt.legend([])\n",
    "n_sub_this = len(avg_bias_simple.subj_t.unique())\n",
    "plt.title('n=%d'%n_sub_this)\n",
    "plt.plot([-180,180],[0,0],'k',alpha=.3)\n",
    "# plt.show()\n",
    "\n",
    "plt.subplot(1,3,2)\n",
    "\n",
    "sns.lineplot(data=avg_sd_simple,x='stimG',y='E',hue='compass',ci=68,palette=cols[::3])\n",
    "SDF.d_plot()\n",
    "plt.xticks([-180,-90,0,90,180],['W','N','E','S','W'])\n",
    "plt.xlabel('')\n",
    "\n",
    "plt.ylabel('Circ SD')\n",
    "yl2 = (.03,.12)\n",
    "plt.vlines([-90,0,90],*yl2,colors='k',alpha=.3)\n",
    "plt.ylim(yl2)\n",
    "plt.legend([])\n",
    "\n",
    "\n",
    "plt.subplot(1,3,3)\n",
    "sns.lineplot(data=avg_RT_simple,x='stimG',y='RT',hue='compass',ci=68,palette=cols[::3])\n",
    "SDF.d_plot()\n",
    "plt.xticks([-180,-90,0,90,180],['W','N','E','S','W'])\n",
    "plt.xlabel('')\n",
    "\n",
    "yl3 = (2,4.5)\n",
    "plt.vlines([-90,0,90],*yl3,colors='k',alpha=.3)\n",
    "plt.ylim(yl3)\n",
    "plt.legend([])\n",
    "plt.ylabel('Response Time (s)')\n",
    "\n",
    "plt.tight_layout()\n",
    "# sav_fig('FS1_stable_Bias')\n",
    "# plt.show()"
   ]
  },
  {
   "cell_type": "markdown",
   "metadata": {},
   "source": [
    "# Models of accuracy /RT across stimulus location"
   ]
  },
  {
   "cell_type": "code",
   "execution_count": 321,
   "metadata": {},
   "outputs": [
    {
     "name": "stderr",
     "output_type": "stream",
     "text": [
      "/usr/local/anaconda3/lib/python3.7/site-packages/statsmodels/regression/mixed_linear_model.py:2094: ConvergenceWarning: The MLE may be on the boundary of the parameter space.\n",
      "  warnings.warn(msg, ConvergenceWarning)\n"
     ]
    },
    {
     "data": {
      "text/html": [
       "<table class=\"simpletable\">\n",
       "<tr>\n",
       "       <td>Model:</td>       <td>MixedLM</td> <td>Dependent Variable:</td>     <td>E</td>    \n",
       "</tr>\n",
       "<tr>\n",
       "  <td>No. Observations:</td>  <td>4105</td>         <td>Method:</td>         <td>REML</td>   \n",
       "</tr>\n",
       "<tr>\n",
       "     <td>No. Groups:</td>      <td>90</td>          <td>Scale:</td>         <td>0.0016</td>  \n",
       "</tr>\n",
       "<tr>\n",
       "  <td>Min. group size:</td>    <td>32</td>        <td>Likelihood:</td>     <td>7224.2552</td>\n",
       "</tr>\n",
       "<tr>\n",
       "  <td>Max. group size:</td>    <td>48</td>        <td>Converged:</td>         <td>Yes</td>   \n",
       "</tr>\n",
       "<tr>\n",
       "  <td>Mean group size:</td>   <td>45.6</td>            <td></td>               <td></td>     \n",
       "</tr>\n",
       "</table>\n",
       "<table class=\"simpletable\">\n",
       "<tr>\n",
       "      <td></td>       <th>Coef.</th> <th>Std.Err.</th>    <th>z</th>   <th>P>|z|</th> <th>[0.025</th> <th>0.975]</th>\n",
       "</tr>\n",
       "<tr>\n",
       "  <th>Intercept</th>  <td>0.092</td>   <td>0.003</td>  <td>28.400</td> <td>0.000</td>  <td>0.086</td>  <td>0.099</td>\n",
       "</tr>\n",
       "<tr>\n",
       "  <th>stimG</th>      <td>0.000</td>   <td>0.000</td>   <td>4.144</td> <td>0.000</td>  <td>0.000</td>  <td>0.000</td>\n",
       "</tr>\n",
       "<tr>\n",
       "  <th>compass</th>   <td>-0.008</td>   <td>0.001</td>  <td>-6.449</td> <td>0.000</td> <td>-0.011</td> <td>-0.006</td>\n",
       "</tr>\n",
       "<tr>\n",
       "  <th>Group Var</th>  <td>0.001</td>   <td>0.004</td>     <td></td>      <td></td>       <td></td>       <td></td>   \n",
       "</tr>\n",
       "</table>"
      ],
      "text/plain": [
       "<class 'statsmodels.iolib.summary2.Summary'>\n",
       "\"\"\"\n",
       "         Mixed Linear Model Regression Results\n",
       "=======================================================\n",
       "Model:            MixedLM Dependent Variable: E        \n",
       "No. Observations: 4105    Method:             REML     \n",
       "No. Groups:       90      Scale:              0.0016   \n",
       "Min. group size:  32      Likelihood:         7224.2552\n",
       "Max. group size:  48      Converged:          Yes      \n",
       "Mean group size:  45.6                                 \n",
       "-------------------------------------------------------\n",
       "             Coef.  Std.Err.   z    P>|z| [0.025 0.975]\n",
       "-------------------------------------------------------\n",
       "Intercept     0.092    0.003 28.400 0.000  0.086  0.099\n",
       "stimG         0.000    0.000  4.144 0.000  0.000  0.000\n",
       "compass      -0.008    0.001 -6.449 0.000 -0.011 -0.006\n",
       "Group Var     0.001    0.004                           \n",
       "=======================================================\n",
       "\n",
       "\"\"\""
      ]
     },
     "execution_count": 321,
     "metadata": {},
     "output_type": "execute_result"
    }
   ],
   "source": [
    "# statistical measure of variance across stimulus type\n",
    "md = smf.mixedlm(\"E~stimG+compass\",avg_sd_simple,groups=avg_sd_simple['subj_t']).fit()\n",
    "md.summary()"
   ]
  },
  {
   "cell_type": "code",
   "execution_count": 326,
   "metadata": {},
   "outputs": [
    {
     "name": "stdout",
     "output_type": "stream",
     "text": [
      "             Mixed Linear Model Regression Results\n",
      "================================================================\n",
      "Model:               MixedLM    Dependent Variable:    E        \n",
      "No. Observations:    4105       Method:                REML     \n",
      "No. Groups:          90         Scale:                 0.0015   \n",
      "Min. group size:     32         Likelihood:            7402.5954\n",
      "Max. group size:     48         Converged:             Yes      \n",
      "Mean group size:     45.6                                       \n",
      "----------------------------------------------------------------\n",
      "                     Coef.  Std.Err.    z    P>|z| [0.025 0.975]\n",
      "----------------------------------------------------------------\n",
      "Intercept             0.096    0.003  29.798 0.000  0.090  0.103\n",
      "ang_grp == 1[T.True] -0.031    0.002 -19.477 0.000 -0.034 -0.028\n",
      "compass              -0.005    0.001  -4.048 0.000 -0.008 -0.003\n",
      "Group Var             0.001    0.004                            \n",
      "================================================================\n",
      "\n",
      "Intercept               4.132918e-195\n",
      "ang_grp == 1[T.True]     1.715985e-84\n",
      "compass                  5.156601e-05\n",
      "Group Var                1.869314e-10\n",
      "dtype: float64\n"
     ]
    },
    {
     "name": "stderr",
     "output_type": "stream",
     "text": [
      "/usr/local/anaconda3/lib/python3.7/site-packages/statsmodels/regression/mixed_linear_model.py:2094: ConvergenceWarning: The MLE may be on the boundary of the parameter space.\n",
      "  warnings.warn(msg, ConvergenceWarning)\n"
     ]
    }
   ],
   "source": [
    "\n",
    "avg_sd_simple['ang_grp'] = 0\n",
    "avg_sd_simple.loc[(np.isin(avg_sd_simple.stimG, ang_primary)),'ang_grp'] = 1\n",
    "avg_sd_simple.loc[(np.isin(avg_sd_simple.stimG, ang_secondary)),'ang_grp'] = 2\n",
    "avg_sd_simple.loc[(np.isin(avg_sd_simple.stimG, ang_tertiary)),'ang_grp'] = 3\n",
    "\n",
    "this_d = avg_sd_simple#.query('task==\"v4\"')\n",
    "md = smf.mixedlm(\"E~ang_grp==1+compass\",this_d,groups=this_d['subj_t']).fit()\n",
    "print(md.summary())\n",
    "print(md.pvalues)"
   ]
  },
  {
   "cell_type": "code",
   "execution_count": 15,
   "metadata": {
    "ExecuteTime": {
     "end_time": "2024-07-02T13:45:06.554378Z",
     "start_time": "2024-07-02T13:45:06.534328Z"
    }
   },
   "outputs": [],
   "source": [
    "ang_grps = sorted(avg_RT_simple.stimG.unique())\n",
    "ang_primary = ang_grps[::8]\n",
    "ang_secondary = ang_grps[4::8]\n",
    "# del ang_secondary[::4]\n",
    "ang_tertiary = ang_grps[2::4]\n",
    "\n",
    "\n",
    "avg_RT_simple['ang_grp'] = 0\n",
    "avg_RT_simple.loc[(np.isin(avg_RT_simple.stimG, ang_primary)),'ang_grp'] = 1\n",
    "avg_RT_simple.loc[(np.isin(avg_RT_simple.stimG, ang_secondary)),'ang_grp'] = 2\n",
    "avg_RT_simple.loc[(np.isin(avg_RT_simple.stimG, ang_tertiary)),'ang_grp'] = 3\n"
   ]
  },
  {
   "cell_type": "code",
   "execution_count": 19,
   "metadata": {
    "ExecuteTime": {
     "end_time": "2024-07-02T13:45:37.907133Z",
     "start_time": "2024-07-02T13:45:37.878474Z"
    }
   },
   "outputs": [
    {
     "data": {
      "text/html": [
       "<div>\n",
       "<style scoped>\n",
       "    .dataframe tbody tr th:only-of-type {\n",
       "        vertical-align: middle;\n",
       "    }\n",
       "\n",
       "    .dataframe tbody tr th {\n",
       "        vertical-align: top;\n",
       "    }\n",
       "\n",
       "    .dataframe thead th {\n",
       "        text-align: right;\n",
       "    }\n",
       "</style>\n",
       "<table border=\"1\" class=\"dataframe\">\n",
       "  <thead>\n",
       "    <tr style=\"text-align: right;\">\n",
       "      <th></th>\n",
       "      <th>subj_t</th>\n",
       "      <th>task</th>\n",
       "      <th>stimG</th>\n",
       "      <th>compass</th>\n",
       "      <th>RT</th>\n",
       "      <th>ang_grp</th>\n",
       "    </tr>\n",
       "  </thead>\n",
       "  <tbody>\n",
       "    <tr>\n",
       "      <th>1</th>\n",
       "      <td>UCSD003_v3</td>\n",
       "      <td>v3</td>\n",
       "      <td>-180.0</td>\n",
       "      <td>1</td>\n",
       "      <td>2.183509</td>\n",
       "      <td>1</td>\n",
       "    </tr>\n",
       "    <tr>\n",
       "      <th>3</th>\n",
       "      <td>UCSD003_v3</td>\n",
       "      <td>v3</td>\n",
       "      <td>-157.5</td>\n",
       "      <td>1</td>\n",
       "      <td>2.558634</td>\n",
       "      <td>3</td>\n",
       "    </tr>\n",
       "    <tr>\n",
       "      <th>5</th>\n",
       "      <td>UCSD003_v3</td>\n",
       "      <td>v3</td>\n",
       "      <td>-135.0</td>\n",
       "      <td>1</td>\n",
       "      <td>2.425183</td>\n",
       "      <td>2</td>\n",
       "    </tr>\n",
       "    <tr>\n",
       "      <th>7</th>\n",
       "      <td>UCSD003_v3</td>\n",
       "      <td>v3</td>\n",
       "      <td>-112.5</td>\n",
       "      <td>1</td>\n",
       "      <td>2.700179</td>\n",
       "      <td>3</td>\n",
       "    </tr>\n",
       "    <tr>\n",
       "      <th>9</th>\n",
       "      <td>UCSD003_v3</td>\n",
       "      <td>v3</td>\n",
       "      <td>-90.0</td>\n",
       "      <td>1</td>\n",
       "      <td>1.850206</td>\n",
       "      <td>1</td>\n",
       "    </tr>\n",
       "    <tr>\n",
       "      <th>...</th>\n",
       "      <td>...</td>\n",
       "      <td>...</td>\n",
       "      <td>...</td>\n",
       "      <td>...</td>\n",
       "      <td>...</td>\n",
       "      <td>...</td>\n",
       "    </tr>\n",
       "    <tr>\n",
       "      <th>4091</th>\n",
       "      <td>UCSD333_v8</td>\n",
       "      <td>v8</td>\n",
       "      <td>67.5</td>\n",
       "      <td>1</td>\n",
       "      <td>3.533399</td>\n",
       "      <td>3</td>\n",
       "    </tr>\n",
       "    <tr>\n",
       "      <th>4094</th>\n",
       "      <td>UCSD333_v8</td>\n",
       "      <td>v8</td>\n",
       "      <td>90.0</td>\n",
       "      <td>1</td>\n",
       "      <td>2.266794</td>\n",
       "      <td>1</td>\n",
       "    </tr>\n",
       "    <tr>\n",
       "      <th>4097</th>\n",
       "      <td>UCSD333_v8</td>\n",
       "      <td>v8</td>\n",
       "      <td>112.5</td>\n",
       "      <td>1</td>\n",
       "      <td>3.916658</td>\n",
       "      <td>3</td>\n",
       "    </tr>\n",
       "    <tr>\n",
       "      <th>4100</th>\n",
       "      <td>UCSD333_v8</td>\n",
       "      <td>v8</td>\n",
       "      <td>135.0</td>\n",
       "      <td>1</td>\n",
       "      <td>3.316675</td>\n",
       "      <td>2</td>\n",
       "    </tr>\n",
       "    <tr>\n",
       "      <th>4103</th>\n",
       "      <td>UCSD333_v8</td>\n",
       "      <td>v8</td>\n",
       "      <td>157.5</td>\n",
       "      <td>1</td>\n",
       "      <td>4.874988</td>\n",
       "      <td>3</td>\n",
       "    </tr>\n",
       "  </tbody>\n",
       "</table>\n",
       "<p>1440 rows × 6 columns</p>\n",
       "</div>"
      ],
      "text/plain": [
       "          subj_t task  stimG  compass        RT  ang_grp\n",
       "1     UCSD003_v3   v3 -180.0        1  2.183509        1\n",
       "3     UCSD003_v3   v3 -157.5        1  2.558634        3\n",
       "5     UCSD003_v3   v3 -135.0        1  2.425183        2\n",
       "7     UCSD003_v3   v3 -112.5        1  2.700179        3\n",
       "9     UCSD003_v3   v3  -90.0        1  1.850206        1\n",
       "...          ...  ...    ...      ...       ...      ...\n",
       "4091  UCSD333_v8   v8   67.5        1  3.533399        3\n",
       "4094  UCSD333_v8   v8   90.0        1  2.266794        1\n",
       "4097  UCSD333_v8   v8  112.5        1  3.916658        3\n",
       "4100  UCSD333_v8   v8  135.0        1  3.316675        2\n",
       "4103  UCSD333_v8   v8  157.5        1  4.874988        3\n",
       "\n",
       "[1440 rows x 6 columns]"
      ]
     },
     "execution_count": 19,
     "metadata": {},
     "output_type": "execute_result"
    }
   ],
   "source": [
    "this_dat"
   ]
  },
  {
   "cell_type": "code",
   "execution_count": 33,
   "metadata": {
    "ExecuteTime": {
     "end_time": "2024-07-03T01:27:46.495162Z",
     "start_time": "2024-07-03T01:27:46.076035Z"
    }
   },
   "outputs": [
    {
     "data": {
      "text/html": [
       "<table class=\"simpletable\">\n",
       "<tr>\n",
       "       <td>Model:</td>       <td>MixedLM</td> <td>Dependent Variable:</td>     <td>RT</td>    \n",
       "</tr>\n",
       "<tr>\n",
       "  <td>No. Observations:</td>  <td>4105</td>         <td>Method:</td>          <td>REML</td>   \n",
       "</tr>\n",
       "<tr>\n",
       "     <td>No. Groups:</td>      <td>90</td>          <td>Scale:</td>          <td>0.5248</td>  \n",
       "</tr>\n",
       "<tr>\n",
       "  <td>Min. group size:</td>    <td>32</td>        <td>Likelihood:</td>     <td>-4715.8299</td>\n",
       "</tr>\n",
       "<tr>\n",
       "  <td>Max. group size:</td>    <td>48</td>        <td>Converged:</td>          <td>Yes</td>   \n",
       "</tr>\n",
       "<tr>\n",
       "  <td>Mean group size:</td>   <td>45.6</td>            <td></td>                <td></td>     \n",
       "</tr>\n",
       "</table>\n",
       "<table class=\"simpletable\">\n",
       "<tr>\n",
       "                <td></td>                <th>Coef.</th> <th>Std.Err.</th>    <th>z</th>    <th>P>|z|</th> <th>[0.025</th> <th>0.975]</th>\n",
       "</tr>\n",
       "<tr>\n",
       "  <th>Intercept</th>                     <td>2.272</td>   <td>0.115</td>  <td>19.784</td>  <td>0.000</td>  <td>2.047</td>  <td>2.497</td>\n",
       "</tr>\n",
       "<tr>\n",
       "  <th>ang_grp == 1[T.True]</th>          <td>0.104</td>   <td>0.041</td>   <td>2.535</td>  <td>0.011</td>  <td>0.024</td>  <td>0.185</td>\n",
       "</tr>\n",
       "<tr>\n",
       "  <th>compass</th>                       <td>1.375</td>   <td>0.027</td>  <td>51.182</td>  <td>0.000</td>  <td>1.322</td>  <td>1.428</td>\n",
       "</tr>\n",
       "<tr>\n",
       "  <th>ang_grp == 1[T.True]:compass</th> <td>-1.195</td>   <td>0.060</td>  <td>-19.802</td> <td>0.000</td> <td>-1.313</td> <td>-1.077</td>\n",
       "</tr>\n",
       "<tr>\n",
       "  <th>Group Var</th>                     <td>1.166</td>   <td>0.246</td>     <td></td>       <td></td>       <td></td>       <td></td>   \n",
       "</tr>\n",
       "</table>"
      ],
      "text/plain": [
       "<class 'statsmodels.iolib.summary2.Summary'>\n",
       "\"\"\"\n",
       "                 Mixed Linear Model Regression Results\n",
       "========================================================================\n",
       "Model:                  MixedLM      Dependent Variable:      RT        \n",
       "No. Observations:       4105         Method:                  REML      \n",
       "No. Groups:             90           Scale:                   0.5248    \n",
       "Min. group size:        32           Likelihood:              -4715.8299\n",
       "Max. group size:        48           Converged:               Yes       \n",
       "Mean group size:        45.6                                            \n",
       "------------------------------------------------------------------------\n",
       "                             Coef.  Std.Err.    z    P>|z| [0.025 0.975]\n",
       "------------------------------------------------------------------------\n",
       "Intercept                     2.272    0.115  19.784 0.000  2.047  2.497\n",
       "ang_grp == 1[T.True]          0.104    0.041   2.535 0.011  0.024  0.185\n",
       "compass                       1.375    0.027  51.182 0.000  1.322  1.428\n",
       "ang_grp == 1[T.True]:compass -1.195    0.060 -19.802 0.000 -1.313 -1.077\n",
       "Group Var                     1.166    0.246                            \n",
       "========================================================================\n",
       "\n",
       "\"\"\""
      ]
     },
     "execution_count": 33,
     "metadata": {},
     "output_type": "execute_result"
    }
   ],
   "source": [
    "comp=0\n",
    "this_dat = avg_RT_simple#.query('compass==@comp')\n",
    "# this_dat = avg_RT_simple.query('ang_grp!=0')\n",
    "md = smf.mixedlm(\"RT~(ang_grp==1)*compass\",this_dat,groups=this_dat['subj_t']).fit()\n",
    "md.summary()\n",
    "# md.pvalues"
   ]
  },
  {
   "cell_type": "code",
   "execution_count": 34,
   "metadata": {
    "ExecuteTime": {
     "end_time": "2024-07-03T01:27:48.264675Z",
     "start_time": "2024-07-03T01:27:47.938085Z"
    }
   },
   "outputs": [
    {
     "data": {
      "text/html": [
       "<table class=\"simpletable\">\n",
       "<tr>\n",
       "       <td>Model:</td>       <td>MixedLM</td> <td>Dependent Variable:</td>     <td>RT</td>    \n",
       "</tr>\n",
       "<tr>\n",
       "  <td>No. Observations:</td>  <td>1440</td>         <td>Method:</td>          <td>REML</td>   \n",
       "</tr>\n",
       "<tr>\n",
       "     <td>No. Groups:</td>      <td>90</td>          <td>Scale:</td>          <td>0.5550</td>  \n",
       "</tr>\n",
       "<tr>\n",
       "  <td>Min. group size:</td>    <td>16</td>        <td>Likelihood:</td>     <td>-1806.5767</td>\n",
       "</tr>\n",
       "<tr>\n",
       "  <td>Max. group size:</td>    <td>16</td>        <td>Converged:</td>          <td>Yes</td>   \n",
       "</tr>\n",
       "<tr>\n",
       "  <td>Mean group size:</td>   <td>16.0</td>            <td></td>                <td></td>     \n",
       "</tr>\n",
       "</table>\n",
       "<table class=\"simpletable\">\n",
       "<tr>\n",
       "      <td></td>      <th>Coef.</th> <th>Std.Err.</th>    <th>z</th>   <th>P>|z|</th> <th>[0.025</th> <th>0.975]</th>\n",
       "</tr>\n",
       "<tr>\n",
       "  <th>Intercept</th> <td>1.899</td>   <td>0.161</td>  <td>11.767</td> <td>0.000</td>  <td>1.583</td>  <td>2.215</td>\n",
       "</tr>\n",
       "<tr>\n",
       "  <th>ang_grp</th>   <td>0.656</td>   <td>0.024</td>  <td>27.699</td> <td>0.000</td>  <td>0.609</td>  <td>0.702</td>\n",
       "</tr>\n",
       "<tr>\n",
       "  <th>Group Var</th> <td>2.054</td>   <td>0.434</td>     <td></td>      <td></td>       <td></td>       <td></td>   \n",
       "</tr>\n",
       "</table>"
      ],
      "text/plain": [
       "<class 'statsmodels.iolib.summary2.Summary'>\n",
       "\"\"\"\n",
       "         Mixed Linear Model Regression Results\n",
       "========================================================\n",
       "Model:            MixedLM Dependent Variable: RT        \n",
       "No. Observations: 1440    Method:             REML      \n",
       "No. Groups:       90      Scale:              0.5550    \n",
       "Min. group size:  16      Likelihood:         -1806.5767\n",
       "Max. group size:  16      Converged:          Yes       \n",
       "Mean group size:  16.0                                  \n",
       "---------------------------------------------------------\n",
       "           Coef.  Std.Err.    z     P>|z|  [0.025  0.975]\n",
       "---------------------------------------------------------\n",
       "Intercept  1.899     0.161  11.767  0.000   1.583   2.215\n",
       "ang_grp    0.656     0.024  27.699  0.000   0.609   0.702\n",
       "Group Var  2.054     0.434                               \n",
       "========================================================\n",
       "\n",
       "\"\"\""
      ]
     },
     "execution_count": 34,
     "metadata": {},
     "output_type": "execute_result"
    }
   ],
   "source": [
    "comp=1\n",
    "md = smf.mixedlm(\"RT~ang_grp\",avg_RT_simple.query('compass==@comp'),groups=avg_sd_simple.query('compass==@comp')['subj_t']).fit()\n",
    "md.summary()"
   ]
  },
  {
   "cell_type": "code",
   "execution_count": 35,
   "metadata": {
    "ExecuteTime": {
     "end_time": "2024-07-03T01:27:48.876769Z",
     "start_time": "2024-07-03T01:27:48.771040Z"
    }
   },
   "outputs": [
    {
     "data": {
      "text/html": [
       "<table class=\"simpletable\">\n",
       "<tr>\n",
       "       <td>Model:</td>       <td>MixedLM</td> <td>Dependent Variable:</td>    <td>RT</td>    \n",
       "</tr>\n",
       "<tr>\n",
       "  <td>No. Observations:</td>   <td>912</td>         <td>Method:</td>         <td>REML</td>   \n",
       "</tr>\n",
       "<tr>\n",
       "     <td>No. Groups:</td>      <td>19</td>          <td>Scale:</td>         <td>0.4243</td>  \n",
       "</tr>\n",
       "<tr>\n",
       "  <td>Min. group size:</td>    <td>48</td>        <td>Likelihood:</td>     <td>-947.1997</td>\n",
       "</tr>\n",
       "<tr>\n",
       "  <td>Max. group size:</td>    <td>48</td>        <td>Converged:</td>         <td>Yes</td>   \n",
       "</tr>\n",
       "<tr>\n",
       "  <td>Mean group size:</td>   <td>48.0</td>            <td></td>               <td></td>     \n",
       "</tr>\n",
       "</table>\n",
       "<table class=\"simpletable\">\n",
       "<tr>\n",
       "      <td></td>      <th>Coef.</th> <th>Std.Err.</th>    <th>z</th>   <th>P>|z|</th> <th>[0.025</th> <th>0.975]</th>\n",
       "</tr>\n",
       "<tr>\n",
       "  <th>Intercept</th> <td>1.716</td>   <td>0.175</td>   <td>9.803</td> <td>0.000</td>  <td>1.373</td>  <td>2.059</td>\n",
       "</tr>\n",
       "<tr>\n",
       "  <th>ang_grp</th>   <td>0.111</td>   <td>0.019</td>   <td>5.889</td> <td>0.000</td>  <td>0.074</td>  <td>0.148</td>\n",
       "</tr>\n",
       "<tr>\n",
       "  <th>compass</th>   <td>0.816</td>   <td>0.050</td>  <td>16.178</td> <td>0.000</td>  <td>0.717</td>  <td>0.915</td>\n",
       "</tr>\n",
       "<tr>\n",
       "  <th>Group Var</th> <td>0.560</td>   <td>0.294</td>     <td></td>      <td></td>       <td></td>       <td></td>   \n",
       "</tr>\n",
       "</table>"
      ],
      "text/plain": [
       "<class 'statsmodels.iolib.summary2.Summary'>\n",
       "\"\"\"\n",
       "         Mixed Linear Model Regression Results\n",
       "=======================================================\n",
       "Model:            MixedLM Dependent Variable: RT       \n",
       "No. Observations: 912     Method:             REML     \n",
       "No. Groups:       19      Scale:              0.4243   \n",
       "Min. group size:  48      Likelihood:         -947.1997\n",
       "Max. group size:  48      Converged:          Yes      \n",
       "Mean group size:  48.0                                 \n",
       "-------------------------------------------------------\n",
       "              Coef. Std.Err.   z    P>|z| [0.025 0.975]\n",
       "-------------------------------------------------------\n",
       "Intercept     1.716    0.175  9.803 0.000  1.373  2.059\n",
       "ang_grp       0.111    0.019  5.889 0.000  0.074  0.148\n",
       "compass       0.816    0.050 16.178 0.000  0.717  0.915\n",
       "Group Var     0.560    0.294                           \n",
       "=======================================================\n",
       "\n",
       "\"\"\""
      ]
     },
     "execution_count": 35,
     "metadata": {},
     "output_type": "execute_result"
    }
   ],
   "source": [
    "md = smf.mixedlm(\"RT~ang_grp+compass\",avg_RT_simple.query('task==\"v4\"'),groups=avg_sd_simple.query('task==\"v4\"')['subj_t']).fit()\n",
    "md.summary()"
   ]
  },
  {
   "cell_type": "markdown",
   "metadata": {},
   "source": [
    "# residualize errors"
   ]
  },
  {
   "cell_type": "code",
   "execution_count": 349,
   "metadata": {},
   "outputs": [],
   "source": [
    "bias_fun = SDF.many_sine_cos_v2 # explore other options here\n",
    "loss_fun = SDF.rss_fun(bias_fun)\n",
    "# loss_fun = SDF.rss_fun_trim(bias_fun,.05) # has trouble \n",
    "x0 = (0,)*16\n",
    "max_E = d2r*25\n",
    "\n",
    "good = ((~np.isnan(S.E.values))&(S.drop_trials.values==0)) &(np.abs(S.E.values)<max_E)\n",
    "\n",
    "S['corrected_E'] = np.nan\n",
    "subjs = S.subj_t.unique()\n",
    "\n",
    "fits_all = np.zeros((len(subjs),2,len(x0)))\n",
    "success = np.zeros((len(subjs),2))\n",
    "\n",
    "for si,subj in enumerate(subjs):\n",
    "    subj_inds = (S.subj_t.values==subj)\n",
    "    for ci in range(2):\n",
    "        compass= ci\n",
    "        those_ind = good&subj_inds&np.isin(S.compass.values,compass)\n",
    "        if ~np.any(those_ind):\n",
    "            print('Bad subj')\n",
    "            continue\n",
    "        vals = tuple(S.loc[those_ind,['correct_resp','E']].values.T)\n",
    "        this_fit = scipy.optimize.minimize(loss_fun,x0,args=vals)\n",
    "        fits_all[si,ci] = this_fit.x\n",
    "        success[si,ci] = this_fit.success\n",
    "                    \n",
    "                    \n",
    "        assert this_fit.success, 'no good'\n",
    "        if ci==1:\n",
    "            fit_compass = this_fit\n",
    "        elif ci==0:\n",
    "            fit_dot = this_fit\n",
    "\n",
    "        if ci==1:\n",
    "            this_correction = np.zeros(np.sum(subj_inds))\n",
    "            these_compass = S[subj_inds].compass.values==1\n",
    "            this_correction[these_compass==0] = bias_fun(fit_dot.x,S['correct_resp'][subj_inds].values[these_compass==0])\n",
    "            this_correction[these_compass==1] = bias_fun(fit_compass.x,S['correct_resp'][subj_inds].values[these_compass==1])\n",
    "            corrected_E = SDF.wrapRad(S['E'][subj_inds].values-this_correction)\n",
    "            S.loc[subj_inds,'corrected_E'] = corrected_E"
   ]
  },
  {
   "cell_type": "code",
   "execution_count": 350,
   "metadata": {},
   "outputs": [],
   "source": [
    "avg_bias_corrected_simple = S[good].groupby(['subj_t','task','stimG','compass']).corrected_E.apply(SDF.circ_mean).reset_index()\n",
    "avg_bias_corrected_simple['E_deg'] = avg_bias_corrected_simple['corrected_E']*r2d"
   ]
  },
  {
   "cell_type": "code",
   "execution_count": 351,
   "metadata": {},
   "outputs": [
    {
     "name": "stdout",
     "output_type": "stream",
     "text": [
      "16\n"
     ]
    },
    {
     "data": {
      "image/png": "[encoded data removed]",
      "text/plain": [
       "<Figure size 432x288 with 1 Axes>"
      ]
     },
     "metadata": {
      "needs_background": "light"
     },
     "output_type": "display_data"
    }
   ],
   "source": [
    "bn_e = np.linspace(-15,15)\n",
    "plt.hist(avg_bias_corrected_simple.query('compass==0').E_deg,bn_e)\n",
    "plt.hist(avg_bias_corrected_simple.query('compass==1').E_deg,bn_e)\n",
    "print(len(x0))\n",
    "plt.show()"
   ]
  },
  {
   "cell_type": "code",
   "execution_count": 352,
   "metadata": {},
   "outputs": [],
   "source": [
    "def print_avg_err(avg_bias):\n",
    "    for comp in range(2):\n",
    "        this_bias = np.std(avg_bias.query('compass==@comp').E_deg)\n",
    "        print(f'comp={comp} {this_bias :.3}')\n"
   ]
  },
  {
   "cell_type": "code",
   "execution_count": 354,
   "metadata": {},
   "outputs": [
    {
     "name": "stdout",
     "output_type": "stream",
     "text": [
      "comp=0 2.17\n",
      "comp=1 0.597\n",
      "16\n"
     ]
    },
    {
     "data": {
      "image/png": "[encoded data removed]",
      "text/plain": [
       "<Figure size 288x288 with 1 Axes>"
      ]
     },
     "metadata": {
      "needs_background": "light"
     },
     "output_type": "display_data"
    }
   ],
   "source": [
    "plt.figure(figsize=(4,4))\n",
    "\n",
    "\n",
    "sns.lineplot(data=avg_bias_corrected_simple,x='stimG',y='E_deg',hue='compass',\n",
    "         ci=68,palette=cols[::3])\n",
    "SDF.d_plot()\n",
    "plt.xticks([-180,-90,0,90,180],['W','N','E','S','W'])\n",
    "plt.ylabel('Residual Bias (deg)')\n",
    "plt.vlines([-90,0,90],-yl,yl,colors='k',alpha=.3)\n",
    "plt.xlabel('')\n",
    "plt.ylim(-yl,yl)\n",
    "plt.legend([])\n",
    "n_sub_this = len(avg_bias_corrected_simple.subj_t.unique())\n",
    "plt.title('n=%d'%n_sub_this)\n",
    "plt.plot([-180,180],[0,0],'k',alpha=.3)\n",
    "    \n",
    "plt.tight_layout()\n",
    "print_avg_err(avg_bias_corrected_simple)\n",
    "print(len(x0))\n",
    "# sav_fig('FS1_E_residuals_16')"
   ]
  },
  {
   "cell_type": "code",
   "execution_count": 84,
   "metadata": {},
   "outputs": [
    {
     "name": "stdout",
     "output_type": "stream",
     "text": [
      "comp=0 1.93\n",
      "comp=1 0.0119\n",
      "20\n"
     ]
    },
    {
     "data": {
      "image/png": "[encoded data removed]",
      "text/plain": [
       "<Figure size 864x288 with 1 Axes>"
      ]
     },
     "metadata": {
      "needs_background": "light"
     },
     "output_type": "display_data"
    }
   ],
   "source": [
    "plt.figure(figsize=(12,4))\n",
    "for i in range(1):\n",
    "    plt.subplot(1,3,i+1)\n",
    "    sns.lineplot(data=avg_bias_corrected_simple,x='stimG',y='E_deg',hue='compass',\n",
    "             ci=68,palette=cols[::3])\n",
    "    SDF.d_plot()\n",
    "    plt.xticks([-180,-90,0,90,180],['W','N','E','S','W'])\n",
    "    plt.ylabel('Residual Bias (deg)')\n",
    "    plt.vlines([-90,0,90],-yl,yl,colors='k',alpha=.3)\n",
    "    plt.xlabel('')\n",
    "    plt.ylim(-yl,yl)\n",
    "    plt.legend([])\n",
    "    n_sub_this = len(avg_bias_corrected_simple.subj_t.unique())\n",
    "    plt.title('n=%d'%n_sub_this)\n",
    "    plt.plot([-180,180],[0,0],'k',alpha=.3)\n",
    "    \n",
    "plt.tight_layout()\n",
    "print_avg_err(avg_bias_corrected_simple)\n",
    "print(len(x0))\n",
    "# sav_fig('FS1_E_residuals')"
   ]
  },
  {
   "cell_type": "markdown",
   "metadata": {},
   "source": [
    "# Save out Data"
   ]
  },
  {
   "cell_type": "code",
   "execution_count": 234,
   "metadata": {},
   "outputs": [],
   "source": [
    "col_drop = ['fback','dummy_lab_ang','isCard','abs_E']\n",
    "Su = S.drop(columns=col_drop)\n",
    "to_cat = ['task','subj','subj_t','compass','hide_resp','block','labs','dummy_labs',\n",
    "          'delay','bad_delay_randomization','hide_trial','delay0','delay1','stimG']\n",
    "for c in to_cat:\n",
    "    Su[c] = Su[c].astype('category')"
   ]
  },
  {
   "cell_type": "code",
   "execution_count": 235,
   "metadata": {},
   "outputs": [],
   "source": [
    "# Su.to_parquet(f'data/data_preprocessed_{len(x0)}p_correction.parquet')\n"
   ]
  },
  {
   "cell_type": "markdown",
   "metadata": {},
   "source": [
    "# TO DO: \n",
    "- Explore other options for residualization eg. https://github.com/achetverikov/circhelp\n",
    "- Also-> https://www.statsmodels.org/devel/generated/statsmodels.nonparametric.smoothers_lowess.lowess.html"
   ]
  }
 ],
 "metadata": {
  "kernelspec": {
   "display_name": "Python 3",
   "language": "python",
   "name": "python3"
  },
  "language_info": {
   "codemirror_mode": {
    "name": "ipython",
    "version": 3
   },
   "file_extension": ".py",
   "mimetype": "text/x-python",
   "name": "python",
   "nbconvert_exporter": "python",
   "pygments_lexer": "ipython3",
   "version": "3.7.4"
  }
 },
 "nbformat": 4,
 "nbformat_minor": 4
}
